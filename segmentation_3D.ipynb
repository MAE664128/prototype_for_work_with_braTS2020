{
 "cells": [
  {
   "cell_type": "markdown",
   "metadata": {},
   "source": []
  },
  {
   "cell_type": "markdown",
   "metadata": {},
   "source": [
    "# Обучение модели для сегментации мозга"
   ]
  },
  {
   "cell_type": "markdown",
   "metadata": {},
   "source": [
    "## Подготовка среды"
   ]
  },
  {
   "cell_type": "code",
   "execution_count": null,
   "metadata": {
    "id": "YQX7R4bhZy5h",
    "tags": []
   },
   "outputs": [],
   "source": [
    "import datetime\n",
    "import os\n",
    "\n",
    "%matplotlib inline\n",
    "import matplotlib.pyplot as plt\n",
    "from matplotlib import animation\n",
    "\n",
    "\n",
    "plt.rcParams[\"animation.html\"] = \"jshtml\"\n",
    "import tensorflow as tf\n",
    "from loader_data import PreprocessLoadData, AnimateView\n",
    "from models.model_MultiReaUNet3d import Model3DMultiResUnet\n",
    "from models.model_UNet3d import Model3DUnet\n",
    "import numpy as np\n",
    "\n",
    "gpu_device = tf.config.experimental.list_physical_devices('GPU')[0]\n",
    "tf.config.experimental.set_memory_growth(gpu_device, True)\n",
    "\n"
   ]
  },
  {
   "cell_type": "markdown",
   "metadata": {},
   "source": [
    "## Определяем ключевые параметры\n",
    "\n",
    " - **KERNEL_DIM** - Размер изображения которое подаем на вход сети. Независимо от размера исходного изображения, генератор будет делить исходное изображение на куски размером KERNEK_DIM\n",
    " - **STEP_WINDOW** - Разбиение исходного изображения на куски размером KERNEK_DIM происходит по принципу плавающего окна. STEP_WINDOW задает шаг смещения окна.\n",
    " - **BATCH_SIZE** - Количество кусков в одном батче\n",
    " - **Model** - Класс модели, которую будем обучать."
   ]
  },
  {
   "cell_type": "code",
   "execution_count": null,
   "metadata": {},
   "outputs": [],
   "source": [
    "STEP_WINDOW = (24, 24, 24)\n",
    "BATCH_SIZE = 5\n",
    "KERNEL_DIM = (64, 64, 64)\n",
    "\n",
    "Model = Model3DUnet\n"
   ]
  },
  {
   "cell_type": "markdown",
   "metadata": {},
   "source": [
    "## Проверяем наличие данных для обучения"
   ]
  },
  {
   "cell_type": "markdown",
   "metadata": {},
   "source": [
    "### Находим обучающие данные "
   ]
  },
  {
   "cell_type": "code",
   "execution_count": null,
   "metadata": {},
   "outputs": [],
   "source": [
    "\n",
    "loader = PreprocessLoadData(kernel_size=KERNEL_DIM, step=STEP_WINDOW, batch_size=BATCH_SIZE)\n",
    "loader.find_files()\n",
    "print(f\"Был найден набор из {loader.length_data()} пар данных\")\n"
   ]
  },
  {
   "cell_type": "markdown",
   "metadata": {},
   "source": [
    "### Получаем генератор данных"
   ]
  },
  {
   "cell_type": "code",
   "execution_count": null,
   "metadata": {},
   "outputs": [],
   "source": [
    "train_dataset = loader.get_generator_data(\"train\",\n",
    "                                          threshold=0.05,\n",
    "                                          random_change_plane=False,\n",
    "                                          augmentation=False,\n",
    "                                          is_whitening=False\n",
    "                                         )\n",
    "test_dataset = loader.get_generator_data(\"test\",\n",
    "                                         threshold=0.05,\n",
    "                                         random_change_plane=False,\n",
    "                                         augmentation=False,\n",
    "                                         is_whitening=False)\n"
   ]
  },
  {
   "cell_type": "markdown",
   "metadata": {},
   "source": [
    "#### Проверяем как работает генератор"
   ]
  },
  {
   "cell_type": "code",
   "execution_count": null,
   "metadata": {},
   "outputs": [],
   "source": [
    "def display(display_list):\n",
    "    fig = plt.figure(figsize=(15, 5))\n",
    "    title = ['Input Image', 'True Mask', 'Predicted Mask']\n",
    "    list_ax = [fig.add_subplot(1, len(display_list), i + 1) for i in range(len(display_list))]\n",
    "    list_exponent = []\n",
    "    for i in range(len(display_list)):\n",
    "        plt.title(title[i])\n",
    "        list_exponent.append((display_list[i].min(), display_list[i].max()))\n",
    "    list_ims = []\n",
    "    for ind_z in range(display_list[0].shape[0]):\n",
    "        if display_list[0][ind_z,...].max() == 0:\n",
    "            continue\n",
    "        ims = []\n",
    "        for i in range(len(display_list)):\n",
    "            cmap_val = 'gray' if i == 0 else \"viridis\"\n",
    "            im = list_ax[i].imshow(tf.keras.preprocessing.image.array_to_img(display_list[i][ind_z,...]),\n",
    "                           animated=True, cmap=cmap_val, vmin=list_exponent[i][0], vmax=list_exponent[i][0])\n",
    "            ims.append(im)\n",
    "        list_ims.append(ims)\n",
    "    ani = animation.ArtistAnimation(fig,\n",
    "                                    list_ims,\n",
    "                                    interval=50,\n",
    "                                    blit=True)\n",
    "    return ani\n",
    "\n",
    "\n",
    "for image, mask in train_dataset:\n",
    "    print(image.shape)\n",
    "    print(mask.shape)\n",
    "    print(image.max())\n",
    "    print(mask.max())\n",
    "    sample_image, sample_mask = image, mask\n",
    "    break\n",
    "    \n",
    "    \n",
    "display([sample_image[0], sample_mask[0]])"
   ]
  },
  {
   "cell_type": "markdown",
   "metadata": {},
   "source": [
    "## Создаем модель\n",
    "\n",
    " - n_channels: Размер канала входных данных.\n",
    " - initial_learning_rate: Начальная скорость обучения модели.\n",
    " - n_classes: Количество классов, которые изучает модель .\n",
    " - start_val_filters: Количество фильтров, которые будет иметь первый слой в сети.\n",
    " - list_metrics: Список метрик, для обучения модели.\n",
    " - type_up_convolution: тип повышающего слоя. up_sampling_3d использует меньше памяти.\n",
    " - pool_size: Размер пула для максимальных операций объединения. Целое число или кортеж.\n",
    " - input_img_shape: Форма входных данных кортеж(3N) или целое число (если форма соответствует кубу).\n",
    " - depth: глубина модели. Уменьшение глубины может уменьшить объем памяти, необходимый для тренировки.\n"
   ]
  },
  {
   "cell_type": "code",
   "execution_count": null,
   "metadata": {},
   "outputs": [],
   "source": [
    "manager_model = Model(depth=5, start_val_filters=16, input_img_shape=KERNEL_DIM, n_classes=3, n_channels=3,\n",
    "                                    initial_learning_rate=1.0)\n"
   ]
  },
  {
   "cell_type": "markdown",
   "metadata": {},
   "source": [
    "### Обучаем"
   ]
  },
  {
   "cell_type": "code",
   "execution_count": null,
   "metadata": {
    "tags": []
   },
   "outputs": [],
   "source": [
    "\n",
    "EPOCHS = 150\n",
    "\n",
    "total_pieces = (192 - KERNEL_DIM[-3]) // STEP_WINDOW[-3] + 1\n",
    "total_pieces *= (256 - KERNEL_DIM[-2]) // STEP_WINDOW[-2] + 1\n",
    "total_pieces *= (256 - KERNEL_DIM[-1]) // STEP_WINDOW[-1] + 1\n",
    "\n",
    "total_mri_study = loader.length_data() * 0.8\n",
    "total_mri_study = 2\n",
    "\n",
    "STEPS_PER_EPOCH = round((total_pieces * total_mri_study) / BATCH_SIZE)\n",
    "\n",
    "\n",
    "VALIDATION_STEPS = round(2)\n",
    "\n",
    "checkpoint_path = 'checkpoints3D//cp-{epoch:04d}.ckpt'\n",
    "checkpoint_dir = os.path.dirname(checkpoint_path)\n",
    "timestamp = datetime.datetime.now().strftime(\"%Y-%m-%d_%H-%M-%S\")\n",
    "model_directory = os.path.join(\"Results\", timestamp)\n",
    "\n",
    "# Добавление отображения через TensorBoard.\n",
    "log_dir = os.path.join(\"Results\",\n",
    "                       timestamp,\n",
    "                       \"logs\",\n",
    "                       \"fit\",\n",
    "                       datetime.datetime.now().strftime(\"%Y%m%d-%H%M%S\"))\n",
    "full_callbacks = [\n",
    "    tf.keras.callbacks.ModelCheckpoint(filepath=checkpoint_path,\n",
    "                                       save_weights_only=True,\n",
    "                                       save_freq=STEPS_PER_EPOCH,\n",
    "                                       verbose=1),\n",
    "    tf.keras.callbacks.TensorBoard(log_dir=log_dir,\n",
    "                                   histogram_freq=1,\n",
    "                                   profile_batch=0,\n",
    "                                   write_images=True),\n",
    "    tf.keras.callbacks.EarlyStopping(monitor=\"loss\", patience=25)]\n",
    "\n",
    "model_history = manager_model.model.fit(train_dataset, epochs=EPOCHS,\n",
    "                                        steps_per_epoch=STEPS_PER_EPOCH,\n",
    "                                        validation_steps=VALIDATION_STEPS,\n",
    "                                        validation_data=test_dataset,\n",
    "                                        verbose=1,\n",
    "                                        callbacks=full_callbacks)\n",
    "\n",
    "manager_model.model.save(f\"train.{Model.__name__}.{timestamp}\")\n"
   ]
  },
  {
   "cell_type": "code",
   "execution_count": null,
   "metadata": {
    "tags": []
   },
   "outputs": [],
   "source": [
    "%%capture\n",
    "for image, mask in test_dataset:\n",
    "    pred_mask = manager_model.model.predict(image)\n",
    "    # используйте порог, чтобы получить точные прогнозы\n",
    "    threshold = 0.01\n",
    "    pred_mask[pred_mask > threshold] = 1.0\n",
    "    pred_mask[pred_mask <= threshold] = 0.0\n",
    "    print(f\"pred_mask.shape={pred_mask.shape}\")\n",
    "    if len(pred_mask.shape) == 4:\n",
    "        # Область усиления контраста\n",
    "        gd_enhancing_tumor_ani = AnimateView().get_ani(pred_mask[:, :, :, 2])\n",
    "        # отек\n",
    "        peritumoral_edema_ani = AnimateView().get_ani(pred_mask[:, :, :, 1])\n",
    "        # ядро некротической и неусиливающейся опухоли\n",
    "        ncr_net_ani = AnimateView().get_ani(pred_mask[:, :, :, 0])\n",
    "        # T1_MRI\n",
    "        t1_mri_ani = AnimateView().get_ani(image[:, :, :, 0])\n",
    "        # T1_ce_MRI\n",
    "        t1ce_mri_ani = AnimateView().get_ani(image[:, :, :, 1])\n",
    "        # T2_MRI\n",
    "        t2_mri_ani = AnimateView().get_ani(image[:, :, :, 2])\n",
    "        # Оригинальная маска_0\n",
    "        orign_mask_ani_0 = AnimateView().get_ani(mask[:, :, :, 0])\n",
    "        # Оригинальная маска_1\n",
    "        orign_mask_ani_1 = AnimateView().get_ani(mask[:, :, :, 1])\n",
    "        # Оригинальная маска_2\n",
    "        orign_mask_ani_2 = AnimateView().get_ani(mask[:, :, :, 2])\n",
    "    elif len(pred_mask.shape) == 5:\n",
    "        # Область усиления контраста\n",
    "        gd_enhancing_tumor_ani = AnimateView().get_ani(pred_mask[0, :, :, :, 2])\n",
    "        # peritumoral edema\n",
    "        peritumoral_edema_ani = AnimateView().get_ani(pred_mask[0, :, :, :, 1])\n",
    "        # NCR/NET\n",
    "        ncr_net_ani = AnimateView().get_ani(pred_mask[0, :, :, :, 0])\n",
    "        # T1_MRI\n",
    "        t1_mri_ani = AnimateView().get_ani(image[0, :, :, :, 0])\n",
    "        # T1_ce_MRI\n",
    "        t1ce_mri_ani = AnimateView().get_ani(image[0, :, :, :, 1])\n",
    "        # T2_MRI\n",
    "        t2_mri_ani = AnimateView().get_ani(image[0, :, :, :, 2])\n",
    "        # Оригинальная маска_0\n",
    "        orign_mask_ani_0 = AnimateView().get_ani(mask[0, :, :, :, 0])\n",
    "        # Оригинальная маска_1\n",
    "        orign_mask_ani_1 = AnimateView().get_ani(mask[0, :, :, :, 1])\n",
    "        # Оригинальная маска_2\n",
    "        orign_mask_ani_2 = AnimateView().get_ani(mask[0, :, :, :, 2])\n",
    "    break\n"
   ]
  },
  {
   "cell_type": "markdown",
   "metadata": {
    "id": "FAOe93FRMk3w"
   },
   "source": [
    "#### T1 МРТ"
   ]
  },
  {
   "cell_type": "code",
   "execution_count": null,
   "metadata": {
    "id": "c6iB4iMvMkX9",
    "tags": []
   },
   "outputs": [],
   "source": [
    "t1_mri_ani"
   ]
  },
  {
   "cell_type": "markdown",
   "metadata": {
    "id": "W4mQle3lthit"
   },
   "source": [
    "#### T1 Контраст МРТ"
   ]
  },
  {
   "cell_type": "code",
   "execution_count": null,
   "metadata": {
    "id": "liCeLH0ctjq7",
    "pycharm": {
     "is_executing": true
    },
    "tags": []
   },
   "outputs": [],
   "source": [
    "%%capture\n",
    "t1ce_mri_ani"
   ]
  },
  {
   "cell_type": "markdown",
   "metadata": {
    "id": "KPw8Lzra5_T9"
   },
   "source": [
    "#### T2 МРТ"
   ]
  },
  {
   "cell_type": "code",
   "execution_count": null,
   "metadata": {
    "id": "p0ZbfywEbZpJ",
    "pycharm": {
     "is_executing": true
    },
    "tags": []
   },
   "outputs": [],
   "source": [
    "%%capture\n",
    "t2_mri_ani"
   ]
  },
  {
   "cell_type": "markdown",
   "metadata": {
    "execution": {
     "iopub.execute_input": "2021-03-13T05:11:04.374073Z",
     "iopub.status.busy": "2021-03-13T05:11:04.373491Z",
     "iopub.status.idle": "2021-03-13T05:11:04.375496Z",
     "shell.execute_reply": "2021-03-13T05:11:04.375025Z"
    },
    "id": "45HByxpVtrPF",
    "pycharm": {
     "is_executing": true
    }
   },
   "source": [
    "## Результат предсказания\n"
   ]
  },
  {
   "cell_type": "markdown",
   "metadata": {
    "pycharm": {
     "is_executing": true
    }
   },
   "source": [
    "### Область отека\n"
   ]
  },
  {
   "cell_type": "code",
   "execution_count": null,
   "metadata": {
    "pycharm": {
     "is_executing": true
    }
   },
   "outputs": [],
   "source": [
    "peritumoral_edema_ani"
   ]
  },
  {
   "cell_type": "markdown",
   "metadata": {
    "id": "j0DGH_4T0VYn"
   },
   "source": [
    "### Область усиления контраста"
   ]
  },
  {
   "cell_type": "code",
   "execution_count": null,
   "metadata": {
    "id": "6he36HK5uKAc",
    "pycharm": {
     "is_executing": true
    },
    "tags": []
   },
   "outputs": [],
   "source": [
    "gd_enhancing_tumor_ani"
   ]
  },
  {
   "cell_type": "markdown",
   "metadata": {
    "id": "xVMzbIZLcyEF"
   },
   "source": [
    "### ядро некротической и неусиливающейся опухоли"
   ]
  },
  {
   "cell_type": "code",
   "execution_count": null,
   "metadata": {
    "id": "sw82qF1Gcovr",
    "pycharm": {
     "is_executing": true
    },
    "tags": []
   },
   "outputs": [],
   "source": [
    "ncr_net_ani"
   ]
  },
  {
   "cell_type": "markdown",
   "metadata": {
    "id": "Tc3MiEO2twLS"
   },
   "source": [
    "### Оригинальная маска - Как должно быть"
   ]
  },
  {
   "cell_type": "code",
   "execution_count": null,
   "metadata": {},
   "outputs": [],
   "source": [
    "orign_mask_ani_1"
   ]
  },
  {
   "cell_type": "code",
   "execution_count": null,
   "metadata": {},
   "outputs": [],
   "source": [
    "orign_mask_ani_2"
   ]
  },
  {
   "cell_type": "code",
   "execution_count": null,
   "metadata": {},
   "outputs": [],
   "source": [
    "orign_mask_ani_0"
   ]
  },
  {
   "cell_type": "code",
   "execution_count": null,
   "metadata": {
    "pycharm": {
     "name": "#%%\n"
    }
   },
   "outputs": [],
   "source": [
    "\n"
   ]
  }
 ],
 "metadata": {
  "accelerator": "GPU",
  "colab": {
   "collapsed_sections": [],
   "name": "segmentation.ipynb",
   "toc_visible": true
  },
  "kernelspec": {
   "display_name": "Python 3",
   "language": "python",
   "name": "python3"
  },
  "language_info": {
   "codemirror_mode": {
    "name": "ipython",
    "version": 3
   },
   "file_extension": ".py",
   "mimetype": "text/x-python",
   "name": "python",
   "nbconvert_exporter": "python",
   "pygments_lexer": "ipython3",
   "version": "3.8.9"
  }
 },
 "nbformat": 4,
 "nbformat_minor": 4
}
